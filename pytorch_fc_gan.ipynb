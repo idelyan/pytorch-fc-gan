{
  "nbformat": 4,
  "nbformat_minor": 0,
  "metadata": {
    "colab": {
      "provenance": []
    },
    "kernelspec": {
      "name": "python3",
      "display_name": "Python 3"
    },
    "language_info": {
      "name": "python"
    }
  },
  "cells": [
    {
      "cell_type": "code",
      "source": [
        "import torch\n",
        "from torch import nn\n",
        "from torch.utils.data import DataLoader\n",
        "from torchvision import datasets\n",
        "from torchvision.transforms import ToTensor, Compose, Normalize\n",
        "import matplotlib.pyplot as plt"
      ],
      "metadata": {
        "id": "BjrmNJNyp_zD"
      },
      "execution_count": 1,
      "outputs": []
    },
    {
      "cell_type": "code",
      "source": [
        "transform = Compose([\n",
        "    ToTensor(),\n",
        "    Normalize((0.5), (0.5)),\n",
        "])\n",
        "\n",
        "training_data = datasets.MNIST(\n",
        "    root=\"data\",\n",
        "    train=True,\n",
        "    download=True,\n",
        "    transform=transform,\n",
        ")"
      ],
      "metadata": {
        "id": "kebp5HFHzVu3"
      },
      "execution_count": null,
      "outputs": []
    },
    {
      "cell_type": "code",
      "source": [
        "batch_size = 64\n",
        "z_noise = 100\n",
        "\n",
        "train_dataloader = DataLoader(training_data, batch_size=batch_size)\n",
        "\n",
        "for X, y in train_dataloader:\n",
        "    print(f\"Shape of X [N, C, H, W]: {X.shape}\")\n",
        "    print(f\"Shape of y: {y.shape} {y.dtype}\")\n",
        "    print(torch.min(X), torch.max(X))\n",
        "    break"
      ],
      "metadata": {
        "colab": {
          "base_uri": "https://localhost:8080/"
        },
        "id": "7obP4-MnzVyn",
        "outputId": "bcb7716f-30b1-424f-894e-e345e48e3a9d"
      },
      "execution_count": 3,
      "outputs": [
        {
          "output_type": "stream",
          "name": "stdout",
          "text": [
            "Shape of X [N, C, H, W]: torch.Size([64, 1, 28, 28])\n",
            "Shape of y: torch.Size([64]) torch.int64\n",
            "tensor(-1.) tensor(1.)\n"
          ]
        }
      ]
    },
    {
      "cell_type": "code",
      "source": [
        "device = (\n",
        "    \"cuda\"\n",
        "    if torch.cuda.is_available()\n",
        "    else \"mps\"\n",
        "    if torch.backends.mps.is_available()\n",
        "    else \"cpu\"\n",
        ")\n",
        "print(f\"Using {device} device\")\n",
        "\n",
        "class Discriminator(nn.Module):\n",
        "    def __init__(self):\n",
        "        super().__init__()\n",
        "        self.fc = nn.Sequential(\n",
        "            nn.Flatten(),\n",
        "            nn.Linear(28*28, 512),\n",
        "            nn.LeakyReLU(0.2),\n",
        "            nn.Dropout(0.3),\n",
        "\n",
        "            nn.Linear(512, 256),\n",
        "            nn.LeakyReLU(0.2),\n",
        "            nn.Dropout(0.3),\n",
        "\n",
        "            nn.Linear(256, 128),\n",
        "            nn.LeakyReLU(0.2),\n",
        "            nn.Dropout(0.3),\n",
        "\n",
        "            nn.Linear(128, 64),\n",
        "            nn.LeakyReLU(0.2),\n",
        "            nn.Dropout(0.3),\n",
        "\n",
        "            nn.Linear(64, 1),\n",
        "            nn.Sigmoid()\n",
        "        )\n",
        "\n",
        "    def forward(self, x):\n",
        "        x = self.fc(x)\n",
        "        return x\n",
        "\n",
        "discriminator = Discriminator().to(device)\n",
        "print(discriminator)"
      ],
      "metadata": {
        "colab": {
          "base_uri": "https://localhost:8080/"
        },
        "id": "smMFM_8CzV2U",
        "outputId": "9a6e9593-431b-4b0a-ef61-a9c21ba10045"
      },
      "execution_count": 4,
      "outputs": [
        {
          "output_type": "stream",
          "name": "stdout",
          "text": [
            "Using cuda device\n",
            "Discriminator(\n",
            "  (fc): Sequential(\n",
            "    (0): Flatten(start_dim=1, end_dim=-1)\n",
            "    (1): Linear(in_features=784, out_features=512, bias=True)\n",
            "    (2): LeakyReLU(negative_slope=0.2)\n",
            "    (3): Dropout(p=0.3, inplace=False)\n",
            "    (4): Linear(in_features=512, out_features=256, bias=True)\n",
            "    (5): LeakyReLU(negative_slope=0.2)\n",
            "    (6): Dropout(p=0.3, inplace=False)\n",
            "    (7): Linear(in_features=256, out_features=128, bias=True)\n",
            "    (8): LeakyReLU(negative_slope=0.2)\n",
            "    (9): Dropout(p=0.3, inplace=False)\n",
            "    (10): Linear(in_features=128, out_features=64, bias=True)\n",
            "    (11): LeakyReLU(negative_slope=0.2)\n",
            "    (12): Dropout(p=0.3, inplace=False)\n",
            "    (13): Linear(in_features=64, out_features=1, bias=True)\n",
            "    (14): Sigmoid()\n",
            "  )\n",
            ")\n"
          ]
        }
      ]
    },
    {
      "cell_type": "code",
      "source": [
        "class Generator(nn.Module):\n",
        "    def __init__(self):\n",
        "        super().__init__()\n",
        "        self.fc = nn.Sequential(\n",
        "            nn.Linear(z_noise, 512),\n",
        "            nn.LeakyReLU(0.2),\n",
        "\n",
        "            nn.Linear(512, 256),\n",
        "            nn.LeakyReLU(0.2),\n",
        "\n",
        "            nn.Linear(256, 256),\n",
        "            nn.LeakyReLU(0.2),\n",
        "\n",
        "            nn.Linear(256, 256),\n",
        "            nn.LeakyReLU(0.2),\n",
        "\n",
        "            nn.Linear(256, 28*28),\n",
        "            nn.Tanh()\n",
        "        )\n",
        "\n",
        "    def forward(self, x):\n",
        "        x = self.fc(x)\n",
        "        return x\n",
        "\n",
        "generator = Generator().to(device)\n",
        "print(generator)"
      ],
      "metadata": {
        "colab": {
          "base_uri": "https://localhost:8080/"
        },
        "id": "jjA8wv4IzV5w",
        "outputId": "98261161-99bc-48a5-f99a-d3d3219fb363"
      },
      "execution_count": 5,
      "outputs": [
        {
          "output_type": "stream",
          "name": "stdout",
          "text": [
            "Generator(\n",
            "  (fc): Sequential(\n",
            "    (0): Linear(in_features=100, out_features=512, bias=True)\n",
            "    (1): LeakyReLU(negative_slope=0.2)\n",
            "    (2): Linear(in_features=512, out_features=256, bias=True)\n",
            "    (3): LeakyReLU(negative_slope=0.2)\n",
            "    (4): Linear(in_features=256, out_features=256, bias=True)\n",
            "    (5): LeakyReLU(negative_slope=0.2)\n",
            "    (6): Linear(in_features=256, out_features=256, bias=True)\n",
            "    (7): LeakyReLU(negative_slope=0.2)\n",
            "    (8): Linear(in_features=256, out_features=784, bias=True)\n",
            "    (9): Tanh()\n",
            "  )\n",
            ")\n"
          ]
        }
      ]
    },
    {
      "cell_type": "code",
      "source": [
        "loss_fn = nn.BCELoss()\n",
        "d_optimizer = torch.optim.Adam(discriminator.parameters(), lr=2e-4)\n",
        "g_optimizer = torch.optim.Adam(generator.parameters(), lr=2e-4)"
      ],
      "metadata": {
        "id": "aYeMqEcIzV88"
      },
      "execution_count": 6,
      "outputs": []
    },
    {
      "cell_type": "code",
      "source": [
        "epoch = 50\n",
        "\n",
        "for i in range(epoch):\n",
        "  print(f\"Epoch {i+1}\\n-------------------------------\")\n",
        "\n",
        "  discriminator.train()\n",
        "  generator.train()\n",
        "  for batch, (img, _) in enumerate(train_dataloader):\n",
        "    img = img.to(device)\n",
        "\n",
        "    d_optimizer.zero_grad()\n",
        "\n",
        "    noise = torch.randn(batch_size, z_noise).to(device)\n",
        "    fake_img = generator(noise)\n",
        "    fake_img = fake_img.reshape(-1, 1, 28, 28)\n",
        "    d_real = discriminator(img)\n",
        "    d_real_loss = loss_fn(d_real, torch.ones_like(d_real))\n",
        "\n",
        "    d_fake = discriminator(fake_img)\n",
        "    d_fake_loss = loss_fn(d_fake, torch.zeros_like(d_fake))\n",
        "\n",
        "    d_loss = (d_real_loss + d_fake_loss) / 2\n",
        "\n",
        "    d_real_loss.backward()\n",
        "    d_fake_loss.backward()\n",
        "    d_optimizer.step()\n",
        "\n",
        "\n",
        "    g_optimizer.zero_grad()\n",
        "\n",
        "    noise = torch.randn(batch_size, z_noise).to(device)\n",
        "    fake_img = generator(noise)\n",
        "    fake_img = fake_img.reshape(-1, 1, 28, 28)\n",
        "    d_fake = discriminator(fake_img)\n",
        "    d_fake_loss = loss_fn(d_fake, torch.ones_like(d_fake))\n",
        "\n",
        "    d_fake_loss.backward()\n",
        "    g_optimizer.step()\n",
        "\n",
        "    # if batch % 100 == 0:\n",
        "    #   print(f\"D loss: {d_loss:>7f}\", f\"G loss: {d_fake_loss:>7f}\")\n",
        "  print(f\"D loss: {d_loss:>7f}\", f\"G loss: {d_fake_loss:>7f}\")\n",
        "print(\"Done!\")"
      ],
      "metadata": {
        "colab": {
          "base_uri": "https://localhost:8080/"
        },
        "id": "eNTjxxNY2qoF",
        "outputId": "4fddd2ca-c957-477a-b81a-66aec0b0da3b"
      },
      "execution_count": 7,
      "outputs": [
        {
          "output_type": "stream",
          "name": "stdout",
          "text": [
            "Epoch 1\n",
            "-------------------------------\n",
            "D loss: 0.260119 G loss: 2.718976\n",
            "Epoch 2\n",
            "-------------------------------\n",
            "D loss: 0.579600 G loss: 1.041501\n",
            "Epoch 3\n",
            "-------------------------------\n",
            "D loss: 0.295326 G loss: 2.183293\n",
            "Epoch 4\n",
            "-------------------------------\n",
            "D loss: 0.251046 G loss: 2.473740\n",
            "Epoch 5\n",
            "-------------------------------\n",
            "D loss: 0.261866 G loss: 3.105808\n",
            "Epoch 6\n",
            "-------------------------------\n",
            "D loss: 0.363876 G loss: 1.487155\n",
            "Epoch 7\n",
            "-------------------------------\n",
            "D loss: 0.213070 G loss: 2.067913\n",
            "Epoch 8\n",
            "-------------------------------\n",
            "D loss: 0.717558 G loss: 1.346119\n",
            "Epoch 9\n",
            "-------------------------------\n",
            "D loss: 0.550211 G loss: 2.056139\n",
            "Epoch 10\n",
            "-------------------------------\n",
            "D loss: 0.294704 G loss: 1.923156\n",
            "Epoch 11\n",
            "-------------------------------\n",
            "D loss: 0.219515 G loss: 1.977690\n",
            "Epoch 12\n",
            "-------------------------------\n",
            "D loss: 0.411090 G loss: 1.674067\n",
            "Epoch 13\n",
            "-------------------------------\n",
            "D loss: 0.221404 G loss: 1.944442\n",
            "Epoch 14\n",
            "-------------------------------\n",
            "D loss: 0.402341 G loss: 1.578459\n",
            "Epoch 15\n",
            "-------------------------------\n",
            "D loss: 0.344227 G loss: 1.876462\n",
            "Epoch 16\n",
            "-------------------------------\n",
            "D loss: 0.334288 G loss: 1.880691\n",
            "Epoch 17\n",
            "-------------------------------\n",
            "D loss: 0.384263 G loss: 1.205860\n",
            "Epoch 18\n",
            "-------------------------------\n",
            "D loss: 0.359166 G loss: 1.383021\n",
            "Epoch 19\n",
            "-------------------------------\n",
            "D loss: 0.390506 G loss: 1.642264\n",
            "Epoch 20\n",
            "-------------------------------\n",
            "D loss: 0.440063 G loss: 1.428377\n",
            "Epoch 21\n",
            "-------------------------------\n",
            "D loss: 0.337304 G loss: 1.693785\n",
            "Epoch 22\n",
            "-------------------------------\n",
            "D loss: 0.477313 G loss: 1.020967\n",
            "Epoch 23\n",
            "-------------------------------\n",
            "D loss: 0.503457 G loss: 1.106250\n",
            "Epoch 24\n",
            "-------------------------------\n",
            "D loss: 0.406753 G loss: 1.262455\n",
            "Epoch 25\n",
            "-------------------------------\n",
            "D loss: 0.428840 G loss: 1.175109\n",
            "Epoch 26\n",
            "-------------------------------\n",
            "D loss: 0.435251 G loss: 1.113601\n",
            "Epoch 27\n",
            "-------------------------------\n",
            "D loss: 0.394883 G loss: 1.346737\n",
            "Epoch 28\n",
            "-------------------------------\n",
            "D loss: 0.445879 G loss: 1.058787\n",
            "Epoch 29\n",
            "-------------------------------\n",
            "D loss: 0.444247 G loss: 1.334292\n",
            "Epoch 30\n",
            "-------------------------------\n",
            "D loss: 0.462691 G loss: 1.234327\n",
            "Epoch 31\n",
            "-------------------------------\n",
            "D loss: 0.466558 G loss: 1.332841\n",
            "Epoch 32\n",
            "-------------------------------\n",
            "D loss: 0.528466 G loss: 1.119515\n",
            "Epoch 33\n",
            "-------------------------------\n",
            "D loss: 0.555300 G loss: 0.945309\n",
            "Epoch 34\n",
            "-------------------------------\n",
            "D loss: 0.657550 G loss: 1.085606\n",
            "Epoch 35\n",
            "-------------------------------\n",
            "D loss: 0.502515 G loss: 1.070966\n",
            "Epoch 36\n",
            "-------------------------------\n",
            "D loss: 0.630128 G loss: 1.262693\n",
            "Epoch 37\n",
            "-------------------------------\n",
            "D loss: 0.486154 G loss: 1.122172\n",
            "Epoch 38\n",
            "-------------------------------\n",
            "D loss: 0.499862 G loss: 0.949338\n",
            "Epoch 39\n",
            "-------------------------------\n",
            "D loss: 0.557725 G loss: 0.979728\n",
            "Epoch 40\n",
            "-------------------------------\n",
            "D loss: 0.551712 G loss: 1.131905\n",
            "Epoch 41\n",
            "-------------------------------\n",
            "D loss: 0.553595 G loss: 0.981999\n",
            "Epoch 42\n",
            "-------------------------------\n",
            "D loss: 0.648710 G loss: 0.977402\n",
            "Epoch 43\n",
            "-------------------------------\n",
            "D loss: 0.533687 G loss: 0.779630\n",
            "Epoch 44\n",
            "-------------------------------\n",
            "D loss: 0.521353 G loss: 1.000524\n",
            "Epoch 45\n",
            "-------------------------------\n",
            "D loss: 0.554652 G loss: 0.992118\n",
            "Epoch 46\n",
            "-------------------------------\n",
            "D loss: 0.605683 G loss: 0.886122\n",
            "Epoch 47\n",
            "-------------------------------\n",
            "D loss: 0.565548 G loss: 0.928887\n",
            "Epoch 48\n",
            "-------------------------------\n",
            "D loss: 0.625781 G loss: 0.939708\n",
            "Epoch 49\n",
            "-------------------------------\n",
            "D loss: 0.652098 G loss: 0.870870\n",
            "Epoch 50\n",
            "-------------------------------\n",
            "D loss: 0.607642 G loss: 0.924249\n",
            "Done!\n"
          ]
        }
      ]
    },
    {
      "cell_type": "code",
      "source": [
        "fig = plt.figure(figsize=(20, 5))\n",
        "rows = 2\n",
        "columns = 8\n",
        "with torch.no_grad():\n",
        "  for i in range(16):\n",
        "    fig.add_subplot(rows, columns, i+1)\n",
        "    noise = torch.randn(1, z_noise).to(device)\n",
        "    fake_img = generator(noise).cpu().detach()\n",
        "    fake_img = fake_img.reshape(-1,1,28,28)\n",
        "    plt.imshow(fake_img[0][0].detach().numpy(), cmap=\"gray\")"
      ],
      "metadata": {
        "colab": {
          "base_uri": "https://localhost:8080/",
          "height": 364
        },
        "id": "gwMnHvU6AUGO",
        "outputId": "a28525e7-4522-40f8-804f-c8fab35c3463"
      },
      "execution_count": 8,
      "outputs": [
        {
          "output_type": "display_data",
          "data": {
            "text/plain": [
              "<Figure size 2000x500 with 16 Axes>"
            ],
            "image/png": "[encoded data removed]"
          },
          "metadata": {}
        }
      ]
    }
  ]
}